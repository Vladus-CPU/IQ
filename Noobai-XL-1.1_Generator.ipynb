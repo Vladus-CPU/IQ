# **Ноутбук для Google Colab: Використання моделі Laxhar/noobai-XL-1.1 (Text-to-Image) з кастомними налаштуваннями**

Нижче наведено повноцінний приклад ipynb-файлу (у вигляді послідовності код-блоків), який можна завантажити та запустити в Colab. Він встановить необхідні залежності, завантажить SDXL-модель з HuggingFace, зніме обмеження на довжину токенів у токенайзерах, а також дасть можливість налаштовувати sampler, кількість кроків семплування, seed, CFG Scale, розмір зображення, увімкнути hires-fix із 8x-нейтральним супермасштабуванням (приклад скелету коду наведено в секції «Використання hires-fix»), тощо.

> ВАЖЛИВО:  
> 1. Переконайтеся, що у вас є доступ до репозиторію HuggingFace (у разі якщо модель закрита або потребує токен авторизації).  
> 2. Будь-які модифікації конфігураційних файлів чи токенайзерів здійснюйте з обережністю.  
> 3. Кодова база model → tokenizer → pipeline може змінюватися з часом, тому можливі незначні відмінності в реальному використанні.

---

```python
# =====================================================
# 1. Налаштування середовища: Встановлення залежностей
# =====================================================
!pip install diffusers==0.31.0 transformers accelerate safetensors --upgrade

# Якщо вам потрібно авторизуватись у HuggingFace:
#from huggingface_hub import login
#login()  # Вставте свій токен, якщо модель вимагає авторизації

# ======================
# 2. Імпорт необхідних модулів
# ======================
import torch
from diffusers import (
    StableDiffusionXLPipeline,
    EulerDiscreteScheduler,
    DPMSolverMultistepScheduler,
    DDIMScheduler,
    # Додайте за потреби інші семплери
)

import PIL
import os

# ============================================================
# 3. Завантаження та ініціалізація моделі Laxhar/noobai-XL-1.1
# ============================================================
# Приклад: завантаження з Euler в якості початкового семплера
pipe = StableDiffusionXLPipeline.from_pretrained(
    "Laxhar/noobai-XL-1.1", 
    torch_dtype=torch.float16, 
    scheduler=EulerDiscreteScheduler.from_pretrained("Laxhar/noobai-XL-1.1", subfolder="scheduler"), 
    use_safetensors=True  # або False, залежно від репозиторію
).to("cuda")

# ===========================================
# 4. Зняття обмеження на довжину токенів
# ===========================================
# У деяких випадках модель чи її токенайзери мають обмеження на кількість символів або токенів.
# Нижче ми скасовуємо це обмеження, встановлюючи дуже велике значення.
if pipe.tokenizer is not None:
    pipe.tokenizer.model_max_length = 100000

if hasattr(pipe, "tokenizer_2") and pipe.tokenizer_2 is not None:
    pipe.tokenizer_2.model_max_length = 100000

print("Успішно завантажено пайплайн та знято обмеження на довжину токенів.")

# ===================================================================
# 5. Зміна семплера (sampler) – приклад з перемиканням на DDIM
# ===================================================================
def set_diffusion_sampler(pipeline, sampler_name="euler"):
    """
    Функція встановлює вибраний метод семплування (sampler_name),
    створюючи відповідний scheduler та перепризначаючи його пайплайну.
    Підтримуються 'euler', 'ddim', 'dpm' та ін., які є в diffusers.
    """
    sampler_name = sampler_name.lower().strip()
    if sampler_name == "euler":
        scheduler = EulerDiscreteScheduler.from_pretrained("Laxhar/noobai-XL-1.1", subfolder="scheduler")
    elif sampler_name == "ddim":
        scheduler = DDIMScheduler.from_pretrained("Laxhar/noobai-XL-1.1", subfolder="scheduler")
    elif sampler_name == "dpm":
        scheduler = DPMSolverMultistepScheduler.from_pretrained("Laxhar/noobai-XL-1.1", subfolder="scheduler")
    else:
        print(f"Невідомий семплер: {sampler_name}. Використано EulerDiscreteScheduler за замовчуванням.")
        scheduler = EulerDiscreteScheduler.from_pretrained("Laxhar/noobai-XL-1.1", subfolder="scheduler")

    pipeline.scheduler = scheduler
    print(f"Встановлено семплер: {sampler_name}")

# Приклад виклику:
set_diffusion_sampler(pipe, "ddim")

# ======================================================================
# 6. Функція генерації зображень з різними параметрами
# ======================================================================
def generate_image(
    pipeline,
    prompt,
    negative_prompt="",
    num_inference_steps=50,
    guidance_scale=7.5,
    width=768,
    height=768,
    seed=42
):
    """
    Генерує зображення за заданим prompt з використанням переданого пайплайну.
    Аргументи:
    - prompt: текстовий запит
    - negative_prompt: негативний запит (необов'язково)
    - num_inference_steps: кількість кроків семплування
    - guidance_scale: CFG scale
    - width, height: розміри вихідного зображення
    - seed: задає випадковий seed для відтворюваності
    """
    generator = torch.manual_seed(seed)

    image = pipeline(
        prompt=prompt,
        negative_prompt=negative_prompt,
        num_inference_steps=num_inference_steps,
        guidance_scale=guidance_scale,
        width=width,
        height=height,
        generator=generator
    ).images[0]

    return image

# ============================================================
# 7. (Опційно) Реалізація hires-fix / 8x NKMD-Superscale (СКЕЛЕТ)
# ============================================================
# Залежно від обраної бібліотеки / наявного додаткового модуля (наприклад, BSRGAN, Real-ESRGAN, SwinIR тощо),
# можна інтегрувати функції для підвищення роздільної здатності (upsampling).
# Коментар розкриває приблизний процес:

def hires_fix(image, scale_factor=2):
    """
    Це скелет функції для hires-fix.
    Тут можна використати сторонні моделі, як-от Real-ESRGAN, для 8x апскейлу.
    Імплементація залежить від конкретного чекпойнту й бібліотеки:
      1) Встановити/імпортувати upscaler (наприклад, pip install git+https://github.com/xinntao/Real-ESRGAN).
      2) Завантажити модель.
      3) Застосувати перетворення.
    Нижче - уявний приклад. Реальний код залежить від обраного методу.
    """

    # Наприклад, якщо була б імпортована бібліотека real_esrgan:
    # from basicsr.utils import imwrite
    # upsampler = RealESRGANer(
    #          model_path='weights/RealESRGAN_x4plus.pth',
    #          scale=4,
    #          etc...
    # )
    # upscaled_image = upsampler.enhance(image, outscale=scale_factor)[0]

    # Повернемо оригінал, поки не інтегровано реальний апскейлер
    return image

# ============================================
# 8. Приклад використання для генерації
# ============================================
example_prompt = "A beautiful futuristic cityscape at sunset, ultra-detailed"
negative_prompt = "blurry, low quality"
steps = 30
cfg = 7.0
img_width = 512
img_height = 512
my_seed = 123

result_image = generate_image(
    pipeline=pipe,
    prompt=example_prompt,
    negative_prompt=negative_prompt,
    num_inference_steps=steps,
    guidance_scale=cfg,
    width=img_width,
    height=img_height,
    seed=my_seed
)
display(result_image)

# (Опційно) Виклик hires-fix:
# result_image_upscaled = hires_fix(result_image, scale_factor=8)
# display(result_image_upscaled)

print("Генерація завершена!")
