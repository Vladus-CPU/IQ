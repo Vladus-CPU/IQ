{
 "cells": [
  {
   "cell_type": "markdown",
   "metadata": {},
   "source": [
    "# Stable Diffusion Image Generation\n",
    "\n",
    "Created by: Vladus-CPU\n",
    "Last Updated: 2025-01-01\n",
    "\n",
    "This notebook demonstrates how to generate images using Stable Diffusion with optimized tokenization and various generation parameters."
   ]
  },
  {
   "cell_type": "markdown",
   "metadata": {},
   "source": [
    "## Installing Required Libraries"
   ]
  },
  {
   "cell_type": "code",
   "execution_count": null,
   "metadata": {},
   "outputs": [],
   "source": [
    "!pip install --upgrade diffusers transformers torch torchvision matplotlib safetensors"
   ]
  },
  {
   "cell_type": "markdown",
   "metadata": {},
   "source": [
    "## Importing Required Modules"
   ]
  },
  {
   "cell_type": "code",
   "execution_count": null,
   "metadata": {},
   "outputs": [],
   "source": [
    "from diffusers import StableDiffusionPipeline, EulerAncestralDiscreteScheduler, DDIMScheduler\n",
    "from transformers import CLIPTextModel, CLIPTokenizer\n",
    "import torch\n",
    "from PIL import Image\n",
    "import matplotlib.pyplot as plt\n",
    "import random"
   ]
  },
  {
   "cell_type": "markdown",
   "metadata": {},
   "source": [
    "## GPU Availability Check"
   ]
  },
  {
   "cell_type": "code",
   "execution_count": null,
   "metadata": {},
   "outputs": [],
   "source": [
    "device = torch.device(\"cuda\" if torch.cuda.is_available() else \"cpu\")\n",
    "print(f\"Using device: {device}\")"
   ]
  },
  {
   "cell_type": "markdown",
   "metadata": {},
   "source": [
    "## Loading Tokenizer and Text Encoder"
   ]
  },
  {
   "cell_type": "code",
   "execution_count": null,
   "metadata": {},
   "outputs": [],
   "source": [
    "tokenizer = CLIPTokenizer.from_pretrained(\"openai/clip-vit-base-patch32\")\n",
    "text_encoder = CLIPTextModel.from_pretrained(\"openai/clip-vit-base-patch32\").to(device)"
   ]
  },
  {
   "cell_type": "markdown",
   "metadata": {},
   "source": [
    "## Pipeline Loading Function with Sampling Method Selection"
   ]
  },
  {
   "cell_type": "code",
   "execution_count": null,
   "metadata": {},
   "outputs": [],
   "source": [
    "def load_pipeline(model_id, scheduler_type=\"Euler\"):\n",
    "    \"\"\"Load the Stable Diffusion pipeline with specified scheduler.\n",
    "    \n",
    "    Args:\n",
    "        model_id (str): The model identifier\n",
    "        scheduler_type (str): Either 'Euler' or 'DDIM'\n",
    "        \n",
    "    Returns:\n",
    "        StableDiffusionPipeline: The loaded pipeline\n",
    "    \"\"\"\n",
    "    if scheduler_type == \"Euler\":\n",
    "        scheduler = EulerAncestralDiscreteScheduler.from_pretrained(model_id, subfolder=\"scheduler\")\n",
    "    elif scheduler_type == \"DDIM\":\n",
    "        scheduler = DDIMScheduler.from_pretrained(model_id, subfolder=\"scheduler\")\n",
    "    else:\n",
    "        raise ValueError(\"Unknown scheduler type\")\n",
    "    \n",
    "    pipe = StableDiffusionPipeline.from_pretrained(\n",
    "        model_id,\n",
    "        scheduler=scheduler,\n",
    "        torch_dtype=torch.float16 if device.type == \"cuda\" else torch.float32\n",
    "    )\n",
    "    pipe = pipe.to(device)\n",
    "    return pipe"
   ]
  },
  {
   "cell_type": "markdown",
   "metadata": {},
   "source": [
    "## Image Generation Function"
   ]
  },
  {
   "cell_type": "code",
   "execution_count": null,
   "metadata": {},
   "outputs": [],
   "source": [
    "def generate_image(\n",
    "    prompt,\n",
    "    sampler=\"Euler\",\n",
    "    sampling_steps=50,\n",
    "    seed=None,\n",
    "    cfg_scale=7.5,\n",
    "    image_size=(512, 512),\n",
    "    hires_fix=False,\n",
    "    hires_scale=2.0,\n",
    "    hires_steps=20\n",
    "):\n",
    "    \"\"\"Generate an image based on text description with customizable parameters.\n",
    "    \n",
    "    Args:\n",
    "        prompt (str): Text description of the desired image\n",
    "        sampler (str): Sampling method ('Euler' or 'DDIM')\n",
    "        sampling_steps (int): Number of sampling steps\n",
    "        seed (int, optional): Random seed for reproducibility\n",
    "        cfg_scale (float): Text guidance scale\n",
    "        image_size (tuple): Output image dimensions (width, height)\n",
    "        hires_fix (bool): Whether to apply high-resolution fix\n",
    "        hires_scale (float): Scale factor for high-resolution fix\n",
    "        hires_steps (int): Number of steps for high-resolution fix\n",
    "    \n",
    "    Returns:\n",
    "        PIL.Image.Image: Generated image\n",
    "    \"\"\"\n",
    "    # Set seed for reproducibility\n",
    "    if seed is not None:\n",
    "        torch.manual_seed(seed)\n",
    "        random.seed(seed)\n",
    "    \n",
    "    # Select sampling method\n",
    "    model_id = \"CompVis/stable-diffusion-v1-4\"\n",
    "    pipe = load_pipeline(model_id, sampler)\n",
    "    \n",
    "    # Tokenize prompt with length limitation\n",
    "    inputs = tokenizer(\n",
    "        prompt,\n",
    "        return_tensors=\"pt\",\n",
    "        truncation=True,\n",
    "        max_length=77\n",
    "    ).to(device)\n",
    "    \n",
    "    # Generate text embeddings\n",
    "    with torch.no_grad():\n",
    "        text_embeddings = text_encoder(**inputs).last_hidden_state\n",
    "    \n",
    "    # Generate image\n",
    "    output = pipe(\n",
    "        prompt=prompt,\n",
    "        num_inference_steps=sampling_steps,\n",
    "        guidance_scale=cfg_scale,\n",
    "        height=image_size[1],\n",
    "        width=image_size[0],\n",
    "        generator=torch.Generator(device).manual_seed(seed) if seed else None\n",
    "    )\n",
    "    \n",
    "    image = output.images[0]\n",
    "    \n",
    "    if hires_fix:\n",
    "        # Load high-resolution model\n",
    "        hires_pipe = load_pipeline(model_id, sampler)\n",
    "        \n",
    "        # Configure upscaling and creativity steps\n",
    "        hires_pipe.scheduler.set_timesteps(hires_steps)\n",
    "        \n",
    "        # Generate high-resolution image\n",
    "        hires_output = hires_pipe(\n",
    "            prompt=prompt,\n",
    "            num_inference_steps=hires_steps,\n",
    "            guidance_scale=cfg_scale,\n",
    "            height=int(image_size[1] * hires_scale),\n",
    "            width=int(image_size[0] * hires_scale),\n",
    "            generator=torch.Generator(device).manual_seed(seed) if seed else None\n",
    "        )\n",
    "        \n",
    "        image = hires_output.images[0]\n",
    "    \n",
    "    return image"
   ]
  },
  {
   "cell_type": "markdown",
   "metadata": {},
   "source": [
    "## Example Usage"
   ]
  },
  {
   "cell_type": "code",
   "execution_count": null,
   "metadata": {},
   "outputs": [],
   "source": [
    "# Example prompt and parameters\n",
    "prompt = \"A serene landscape with mountains and a lake at sunset, photorealistic style\"\n",
    "\n",
    "# Configure generation parameters\n",
    "params = {\n",
    "    'sampler': \"Euler\",\n",
    "    'sampling_steps': 50,\n",
    "    'seed': 42,\n",
    "    'cfg_scale': 7.5,\n",
    "    'image_size': (768, 768),\n",
    "    'hires_fix': True,\n",
    "    'hires_scale': 1.5,\n",
    "    'hires_steps': 20\n",
    "}\n",
    "\n",
    "# Generate image\n",
    "generated_image = generate_image(prompt, **params)\n",
    "\n",
    "# Display the generated image\n",
    "plt.figure(figsize=(12, 12))\n",
    "plt.imshow(generated_image)\n",
    "plt.axis('off')\n",
    "plt.show()"
   ]
  },
  {
   "cell_type": "markdown",
   "metadata": {},
   "source": [
    "## Save Generated Image"
   ]
  },
  {
   "cell_type": "code",
   "execution_count": null,
   "metadata": {},
   "outputs": [],
   "source": [
    "# Save the generated image\n",
    "output_path = \"generated_image.png\"\n",
    "generated_image.save(output_path)\n",
    "print(f\"Image saved to {output_path}\")"
   ]
  }
 ],
 "metadata": {
  "kernelspec": {
   "display_name": "Python 3",
   "language": "python",
   "name": "python3"
  },
  "language_info": {
   "codemirror_mode": {
    "name": "ipython",
    "version": 3
   },
   "file_extension": ".py",
   "mimetype": "text/x-python",
   "name": "python",
   "nbconvert_exporter": "python",
   "pygments_lexer": "ipython3",
   "version": "3.8.5"
  }
 },
 "nbformat": 4,
 "nbformat_minor": 5
}
