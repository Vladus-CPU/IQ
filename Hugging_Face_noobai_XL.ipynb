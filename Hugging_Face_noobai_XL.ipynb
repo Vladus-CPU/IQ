{
 "cells": [
  {
   "cell_type": "markdown",
   "metadata": {},
   "source": [
    "# Генерація Зображень за Допомогою noobai-XL-1.1 з Використанням Euler A та DDIM"
   ]
  },
  {
   "cell_type": "markdown",
   "metadata": {},
   "source": [
    "Цей Notebook демонструє, як використовувати різні методи семплінгу (EulerA та DDIM) для генерації зображень за допомогою моделі noobai-XL-1.1. Ви зможете налаштовувати параметри генерації, такі як кількість кроків семплінгу, насіння (seed), масштаб керування (cfg_scale) та інші."
   ]
  },
  {
   "cell_type": "code",
   "execution_count": null,
   "metadata": {},
   "outputs": [],
   "source": [
    "# Встановлення необхідних бібліотек\n",
    "!pip install --upgrade diffusers transformers torch torchvision matplotlib safetensors"
   ]
  },
  {
   "cell_type": "markdown",
   "metadata": {},
   "source": [
    "## Імпорт необхідних модулів"
   ]
  },
  {
   "cell_type": "code",
   "execution_count": null,
   "metadata": {},
   "outputs": [],
   "source": [
    "from diffusers import StableDiffusionPipeline, EulerAncestralDiscreteScheduler, DDIMScheduler\n",
    "from transformers import CLIPTextModel, CLIPTokenizer\n",
    "import torch\n",
    "from PIL import Image\n",
    "import matplotlib.pyplot as plt\n",
    "import random"
   ]
  },
  {
   "cell_type": "markdown",
   "metadata": {},
   "source": [
    "## Перевірка наявності GPU"
   ]
  },
  {
   "cell_type": "code",
   "execution_count": null,
   "metadata": {},
   "outputs": [],
   "source": [
    "device = torch.device(\"cuda\" if torch.cuda.is_available() else \"cpu\")\n",
    "print(f\"Використовується пристрій: {device}\")"
   ]
  },
  {
   "cell_type": "markdown",
   "metadata": {},
   "source": [
    "## Завантаження пайплайна Stable Diffusion з вибором методу семплінгу"
   ]
  },
  {
   "cell_type": "code",
   "execution_count": null,
   "metadata": {},
   "outputs": [],
   "source": [
    "def load_pipeline(model_id, scheduler_type=\"EulerA\"):\n",
    "    if scheduler_type == \"EulerA\":\n",
    "        scheduler = EulerAncestralDiscreteScheduler.from_pretrained(model_id, subfolder=\"scheduler\")\n",
    "    elif scheduler_type == \"DDIM\":\n",
    "        scheduler = DDIMScheduler.from_pretrained(model_id, subfolder=\"scheduler\")\n",
    "    else:\n",
    "        raise ValueError(\"Невідомий тип семплінгу\")\n",
    "    \n",
    "    pipe = StableDiffusionPipeline.from_pretrained(\n",
    "        model_id,\n",
    "        scheduler=scheduler,\n",
    "        torch_dtype=torch.float16 if device.type == \"cuda\" else torch.float32\n",
    "    )\n",
    "    pipe = pipe.to(device)\n",
    "    return pipe"
   ]
  },
  {
   "cell_type": "markdown",
   "metadata": {},
   "source": [
    "## Завантаження пайплайна"
   ]
  },
  {
   "cell_type": "code",
   "execution_count": null,
   "metadata": {},
   "outputs": [],
   "source": [
    "model_id = \"Laxhar/noobai-XL-1.1\"  # Ідентифікатор моделі\n",
    "scheduler_type = \"EulerA\"  # Можливі значення: \"EulerA\", \"DDIM\"\n",
    "pipe = load_pipeline(model_id, scheduler_type)\n",
    "print(\"Пайплайн успішно завантажено та перенесено на пристрій.\")"
   ]
  },
  {
   "cell_type": "markdown",
   "metadata": {},
   "source": [
    "## Функція для генерації зображення"
   ]
  },
  {
   "cell_type": "code",
   "execution_count": null,
   "metadata": {},
   "outputs": [],
   "source": [
    "def generate_image(\n",
    "    prompt,\n",
    "    sampler=\"EulerA\",\n",
    "    sampling_steps=50,\n",
    "    seed=None,\n",
    "    cfg_scale=7.5,\n",
    "    image_size=(512, 512)\n",
    "):\n",
    "    \"\"\"\n",
    "    Генерує зображення на основі текстового опису з можливістю налаштування параметрів.\n",
    "    \"\"\"\n",
    "    if seed is not None:\n",
    "        torch.manual_seed(seed)\n",
    "        random.seed(seed)\n",
    "    \n",
    "    if sampler == \"EulerA\":\n",
    "        scheduler = EulerAncestralDiscreteScheduler.from_config(pipe.scheduler.config)\n",
    "    elif sampler == \"DDIM\":\n",
    "        scheduler = DDIMScheduler.from_config(pipe.scheduler.config)\n",
    "    else:\n",
    "        raise ValueError(\"Невідомий метод семплінгу\")\n",
    "    \n",
    "    pipe.scheduler = scheduler\n",
    "    \n",
    "    output = pipe(\n",
    "        prompt=prompt,\n",
    "        num_inference_steps=sampling_steps,\n",
    "        guidance_scale=cfg_scale,\n",
    "        height=image_size[1],\n",
    "        width=image_size[0],\n",
    "        generator=torch.Generator(device).manual_seed(seed) if seed else None\n",
    "    )\n",
    "    \n",
    "    return output.images[0]"
   ]
  },
  {
   "cell_type": "markdown",
   "metadata": {},
   "source": [
    "## Приклад використання функції для генерації зображення"
   ]
  },
  {
   "cell_type": "code",
   "execution_count": null,
   "metadata": {},
   "outputs": [],
   "source": [
    "prompt = \"A futuristic cityscape at sunset with flying cars and towering skyscrapers, ultra-realistic\"\n",
    "\n",
    "# Налаштування параметрів\n",
    "sampler = \"EulerA\"          # Метод семплінгу: \"EulerA\" або \"DDIM\"\n",
    "sampling_steps = 50        # Кількість кроків семплінгу\n",
    "seed = 42                   # Насіння для відтворюваності\n",
    "cfg_scale = 7.5             # Контроль впливу тексту\n",
    "image_size = (512, 512)     # Розмір зображення (ширина, висота)\n",
    "\n",
    "# Генерація зображення\n",
    "generated_image = generate_image(\n",
    "    prompt=prompt,\
    sampler=sampler,
    sampling_steps=sampling_steps,
    seed=seed,
    cfg_scale=cfg_scale,
    image_size=image_size
)

# Відображення згенерованого зображення
plt.figure(figsize=(8, 8))
plt.imshow(generated_image)
plt.axis("off")
plt.title("Згенероване зображення")
plt.show()
