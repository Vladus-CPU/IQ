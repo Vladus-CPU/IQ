{
 "cells": [
  {
   "cell_type": "markdown",
   "metadata": {},
   "source": [
    "# Stable Diffusion Image Generation using noobai-XL-1.1\n",
    "\n",
    "Created by: Vladus-CPU\n",
    "Last Updated: 2025-01-01\n",
    "\n",
    "This notebook demonstrates how to generate images using noobai-XL-1.1 model with optimized parameters for high-quality image generation."
   ]
  },
  {
   "cell_type": "markdown",
   "metadata": {},
   "source": [
    "## Installing Required Libraries"
   ]
  },
  {
   "cell_type": "code",
   "execution_count": null,
   "metadata": {},
   "outputs": [],
   "source": [
    "!pip install --upgrade diffusers transformers torch torchvision matplotlib safetensors accelerate"
   ]
  },
  {
   "cell_type": "markdown",
   "metadata": {},
   "source": [
    "## Importing Required Modules"
   ]
  },
  {
   "cell_type": "code",
   "execution_count": null,
   "metadata": {},
   "outputs": [],
   "source": [
    "from diffusers import StableDiffusionXLPipeline, EulerAncestralDiscreteScheduler, DDIMScheduler\n",
    "from transformers import CLIPTextModel, CLIPTokenizer\n",
    "import torch\n",
    "from PIL import Image\n",
    "import matplotlib.pyplot as plt\n",
    "import random"
   ]
  },
  {
   "cell_type": "markdown",
   "metadata": {},
   "source": [
    "## GPU Availability Check"
   ]
  },
  {
   "cell_type": "code",
   "execution_count": null,
   "metadata": {},
   "outputs": [],
   "source": [
    "device = torch.device(\"cuda\" if torch.cuda.is_available() else \"cpu\")\n",
    "print(f\"Using device: {device}\")"
   ]
  },
  {
   "cell_type": "markdown",
   "metadata": {},
   "source": [
    "## Pipeline Loading Function with Sampling Method Selection"
   ]
  },
  {
   "cell_type": "code",
   "execution_count": null,
   "metadata": {},
   "outputs": [],
   "source": [
    "def load_pipeline(scheduler_type=\"Euler\"):\n",
    "    \"\"\"Load the noobai-XL-1.1 pipeline with specified scheduler.\n",
    "    \n",
    "    Args:\n",
    "        scheduler_type (str): Either 'Euler' or 'DDIM'\n",
    "        \n",
    "    Returns:\n",
    "        StableDiffusionXLPipeline: The loaded pipeline\n",
    "    \"\"\"\n",
    "    model_id = \"Laxhar/noobai-XL-1.1\"\n",
    "    \n",
    "    if scheduler_type == \"Euler\":\n",
    "        scheduler = EulerAncestralDiscreteScheduler.from_pretrained(model_id, subfolder=\"scheduler\")\n",
    "    elif scheduler_type == \"DDIM\":\n",
    "        scheduler = DDIMScheduler.from_pretrained(model_id, subfolder=\"scheduler\")\n",
    "    else:\n",
    "        raise ValueError(\"Unknown scheduler type\")\n",
    "    \n",
    "    pipe = StableDiffusionXLPipeline.from_pretrained(\n",
    "        model_id,\n",
    "        scheduler=scheduler,\n",
    "        torch_dtype=torch.float16 if device.type == \"cuda\" else torch.float32,\n",
    "        safety_checker=None,\n",
    "        variant=\"fp16\" if device.type == \"cuda\" else None\n",
    "    )\n",
    "    \n",
    "    # Enable memory efficient attention if available\n",
    "    if hasattr(pipe, \"enable_xformers_memory_efficient_attention\"):\n",
    "        pipe.enable_xformers_memory_efficient_attention()\n",
    "    \n",
    "    pipe = pipe.to(device)\n",
    "    return pipe"
   ]
  },
  {
   "cell_type": "markdown",
   "metadata": {},
   "source": [
    "## Image Generation Function"
   ]
  },
  {
   "cell_type": "code",
   "execution_count": null,
   "metadata": {},
   "outputs": [],
   "source": [
    "def generate_image(\n",
    "    prompt,\n",
    "    negative_prompt=\"\",\n",
    "    sampler=\"Euler\",\n",
    "    sampling_steps=30,\n",
    "    seed=None,\n",
    "    cfg_scale=7.0,\n",
    "    image_size=(1024, 1024),\n",
    "    hires_fix=False,\n",
    "    hires_scale=1.5,\n",
    "    hires_steps=20\n",
    "):\n",
    "    \"\"\"Generate an image using noobai-XL-1.1 model.\n",
    "    \n",
    "    Args:\n",
    "        prompt (str): Text description of the desired image\n",
    "        negative_prompt (str): Things to avoid in the image\n",
    "        sampler (str): Sampling method ('Euler' or 'DDIM')\n",
    "        sampling_steps (int): Number of sampling steps\n",
    "        seed (int, optional): Random seed for reproducibility\n",
    "        cfg_scale (float): Text guidance scale\n",
    "        image_size (tuple): Output image dimensions (width, height)\n",
    "        hires_fix (bool): Whether to apply high-resolution fix\n",
    "        hires_scale (float): Scale factor for high-resolution fix\n",
    "        hires_steps (int): Number of steps for high-resolution fix\n",
    "    \n",
    "    Returns:\n",
    "        PIL.Image.Image: Generated image\n",
    "    \"\"\"\n",
    "    # Set seed for reproducibility\n",
    "    if seed is not None:\n",
    "        torch.manual_seed(seed)\n",
    "        random.seed(seed)\n",
    "        generator = torch.Generator(device=device).manual_seed(seed)\n",
    "    else:\n",
    "        generator = None\n",
    "    \n",
    "    # Load pipeline\n",
    "    pipe = load_pipeline(sampler)\n",
    "    \n",
    "    # Generate image\n",
    "    output = pipe(\n",
    "        prompt=prompt,\n",
    "        negative_prompt=negative_prompt,\n",
    "        num_inference_steps=sampling_steps,\n",
    "        guidance_scale=cfg_scale,\n",
    "        height=image_size[1],\n",
    "        width=image_size[0],\n",
    "        generator=generator\n",
    "    )\n",
    "    \n",
    "    image = output.images[0]\n",
    "    \n",
    "    if hires_fix:\n",
    "        # Calculate new dimensions\n",
    "        new_width = int(image_size[0] * hires_scale)\n",
    "        new_height = int(image_size[1] * hires_scale)\n",
    "        \n",
    "        # Generate high-resolution image\n",
    "        output = pipe(\n",
    "            prompt=prompt,\n",
    "            negative_prompt=negative_prompt,\n",
    "            num_inference_steps=hires_steps,\n",
    "            guidance_scale=cfg_scale,\n",
    "            height=new_height,\n",
    "            width=new_width,\n",
    "            generator=generator\n",
    "        )\n",
    "        \n",
    "        image = output.images[0]\n",
    "    \n",
    "    return image"
   ]
  },
  {
   "cell_type": "markdown",
   "metadata": {},
   "source": [
    "## Example Usage"
   ]
  },
  {
   "cell_type": "code",
   "execution_count": null,
   "metadata": {},
   "outputs": [],
   "source": [
    "# Example prompt\n",
    "prompt = \"masterpiece, best quality, ultra detailed, A majestic dragon soaring through storm clouds, lightning crackling around its wings, highly detailed scales, dynamic pose, epic lighting\"\n",
    "negative_prompt = \"worst quality, low quality, normal quality, lowres, low details, oversaturated, undersaturated, overexposed, underexposed, grainy, blur, text, watermark, signature, error\"\n",
    "\n",
    "# Configure generation parameters\n",
    "params = {\n",
    "    'negative_prompt': negative_prompt,\n",
    "    'sampler': \"Euler\",\n",
    "    'sampling_steps': 30,\n",
    "    'seed': 42,\n",
    "    'cfg_scale': 7.0,\n",
    "    'image_size': (1024, 1024),\n",
    "    'hires_fix': True,\n",
    "    'hires_scale': 1.5,\n",
    "    'hires_steps': 20\n",
    "}\n",
    "\n",
    "# Generate image\n",
    "generated_image = generate_image(prompt, **params)\n",
    "\n",
    "# Display the generated image\n",
    "plt.figure(figsize=(15, 15))\n",
    "plt.imshow(generated_image)\n",
    "plt.axis('off')\n",
    "plt.show()"
   ]
  },
  {
   "cell_type": "markdown",
   "metadata": {},
   "source": [
    "## Save Generated Image"
   ]
  },
  {
   "cell_type": "code",
   "execution_count": null,
   "metadata": {},
   "outputs": [],
   "source": [
    "# Save the generated image with timestamp\n",
    "from datetime import datetime\n",
    "timestamp = datetime.utcnow().strftime(\"%Y%m%d_%H%M%S\")\n",
    "output_path = f\"generated_image_{timestamp}.png\"\n",
    "generated_image.save(output_path)\n",
    "print(f\"Image saved to {output_path}\")"
   ]
  }
 ],
 "metadata": {
  "kernelspec": {
   "display_name": "Python 3",
   "language": "python",
   "name": "python3"
  },
  "language_info": {
   "codemirror_mode": {
    "name": "ipython",
    "version": 3
   },
   "file_extension": ".py",
   "mimetype": "text/x-python",
   "name": "python",
   "nbconvert_exporter": "python",
   "pygments_lexer": "ipython3",
   "version": "3.8.5"
  }
 },
 "nbformat": 4,
 "nbformat_minor": 5
}
