{
 "cells": [
  {
   "cell_type": "markdown",
   "metadata": {},
   "source": [
    "# Використання моделі `noobai-XL-1.1` для Генерації Зображень у Google Colab\n",
    "\n",
    "У цьому ноутбуці ми налаштуємо середовище для використання моделі `noobai-XL-1.1` з Hugging Face для завдання генерації зображень на основі текстових описів. Ми завантажимо модель, налаштуємо параметри генерації та продемонструємо приклади використання."
  ]
  },
  {
   "cell_type": "markdown",
   "metadata": {},
   "source": [
    "## Встановлення Необхідних Бібліотек\n",
    "\n",
    "Перш за все, встановимо всі необхідні бібліотеки, які потрібні для роботи з моделлю та генерації зображень."
  ]
  },
  {
   "cell_type": "code",
   "execution_count": null,
   "metadata": {},
   "outputs": [],
   "source": [
    "# Встановлення необхідних бібліотек\n",
    "!pip install --upgrade diffusers transformers torch torchvision matplotlib safetensors"
  ]
  },
  {
   "cell_type": "markdown",
   "metadata": {},
   "source": [
    "## Імпорт Необхідних Модулів\n",
    "\n",
    "Імпортуємо бібліотеки, необхідні для роботи з моделлю та обробки зображень."
  ]
  },
  {
   "cell_type": "code",
   "execution_count": null,
   "metadata": {},
   "outputs": [],
   "source": [
    "# Імпорт необхідних модулів\n",
    "from diffusers import StableDiffusionXLPipeline\n",
    "from transformers import CLIPTextModel, CLIPTokenizer\n",
    "import torch\n",
    "from PIL import Image\n",
    "import matplotlib.pyplot as plt"
  ]
  },
  {
   "cell_type": "markdown",
   "metadata": {},
   "source": [
    "## Завантаження Моделі для Генерації Зображень\n",
    "\n",
    "Завантажимо модель `Laxhar/noobai-XL-1.1` за допомогою `StableDiffusionXLPipeline` з бібліотеки `diffusers`. Переконайтесь, що у вас є доступ до цієї моделі на Hugging Face."
  ]
  },
  {
   "cell_type": "code",
   "execution_count": null,
   "metadata": {},
   "outputs": [],
   "source": [
    "# Визначення ідентифікатора моделі\n",
    "model_id = \"Laxhar/noobai-XL-1.1\"\n",
    "\n",
    "# Ініціалізація пайплайна\n",
    "try:\n",
    "    pipe = StableDiffusionXLPipeline.from_pretrained(\n",
    "        model_id,\n",
    "        torch_dtype=torch.float16\n",
    "    )\n",
    "    pipe = pipe.to(\"cuda\")  # Переміщення пайплайна на GPU для прискорення\n",
    "    print(\"Пайплайн успішно завантажено і переміщено на GPU.\")\n",
    "except Exception as e:\n",
    "    print(f\"Не вдалося завантажити пайплайн: {e}\")"
  ]
  },
  {
   "cell_type": "markdown",
   "metadata": {},
   "source": [
    "## Ініціалізація Токенізатора та Текстових Енкодерів\n",
    "\n",
    "Для генерації зображень нам потрібні токенізатор та текстові енкодери, які будуть перетворювати текстовий промпт у формат, зрозумілий моделі."
  ]
  },
  {
   "cell_type": "code",
   "execution_count": null,
   "metadata": {},
   "outputs": [],
   "source": [
    "# Ініціалізація токенізатора та текстових енкодерів\n",
    "try:\n",
    "    tokenizer = CLIPTokenizer.from_pretrained(\"openai/clip-vit-base-patch32\")\n",
    "    text_encoder = CLIPTextModel.from_pretrained(\"openai/clip-vit-base-patch32\")\n",
    "    text_encoder_2 = CLIPTextModel.from_pretrained(\"openai/clip-vit-base-patch32\")\n",
    "    tokenizer = tokenizer.to(\"cuda\")\n",
    "    text_encoder = text_encoder.to(\"cuda\")\n",
    "    text_encoder_2 = text_encoder_2.to(\"cuda\")\n",
    "    print(\"Токенізатор та текстові енкодери успішно завантажено і переміщено на GPU.\")\n",
    "except Exception as e:\n",
    "    print(f\"Не вдалося завантажити токенізатор або текстові енкодери: {e}\")"
  ]
  },
  {
   "cell_type": "markdown",
   "metadata": {},
   "source": [
    "## Функція для Генерації Зображень\n",
    "\n",
    "Створимо функцію, яка приймає текстовий опис і генерує відповідне зображення за допомогою моделі."
  ]
  },
  {
   "cell_type": "code",
   "execution_count": null,
   "metadata": {},
   "outputs": [],
   "source": [
    "def generate_image(prompt, guidance_scale=7.5, num_inference_steps=50):\n",
    "    \"\"\"\n",
    "    Генерує зображення на основі текстового опису.\n",
    "    \n",
    "    Parameters:\n",
    "    - prompt (str): Текстовий опис зображення.\n",
    "    - guidance_scale (float): Контролює вплив текстового опису на зображення. Вищі значення роблять зображення більш відповідним до опису.\n",
    "    - num_inference_steps (int): Кількість кроків генерації. Більше кроків можуть покращити якість, але збільшують час генерації.\n",
    "    \n",
    "    Returns:\n",
    "    - image (PIL.Image.Image): Згенероване зображення.\n",
    "    \"\"\"\n",
    "    try:\n",
    "        # Токенізація промпту\n",
    "        inputs = tokenizer(prompt, return_tensors=\"pt\").to(\"cuda\")\n",
    "        \n",
    "        # Генерація текстових ембеддінгів за допомогою обох енкодерів\n",
    "        text_embeds1 = text_encoder(**inputs).last_hidden_state\n",
    "        text_embeds2 = text_encoder_2(**inputs).last_hidden_state\n",
    "        \n",
    "        # Генерація зображення з передачею текстових ембеддінгів\n",
    "        output = pipe(\n",
    "            prompt=prompt,\n",
    "            text_embeds=(text_embeds1, text_embeds2),\n",
    "            guidance_scale=guidance_scale,\n",
    "            num_inference_steps=num_inference_steps\n",
    "        )\n",
    "        \n",
    "        # Отримання першого згенерованого зображення\n",
    "        image = output.images[0]\n",
    "        return image\n",
    "    except TypeError as e:\n",
    "        print(f\"Виникла помилка TypeError: {e}\")\n",
    "        print(\"Переконайтесь, що всі необхідні аргументи передані правильно і сумісні з конфігурацією пайплайна.\")\n",
    "        return None\n",
    "    except Exception as e:\n",
    "        print(f\"Виникла несподівана помилка: {e}\")\n",
    "        return None"
  ]
  },
  {
   "cell_type": "markdown",
   "metadata": {},
   "source": [
    "## Приклад Використання Функції для Генерації Зображення\n",
    "\n",
    "Нижче наведено приклад того, як можна використовувати функцію `generate_image` для створення зображення на основі заданого промпту. Ви можете налаштовувати різні параметри генерації за вашими потребами."
  ]
  },
  {
   "cell_type": "code",
   "execution_count": null,
   "metadata": {},
   "outputs": [],
   "source": [
    "# Визначення промпту\n",
    "prompt = \"A serene sunset over the mountains with a lake in the foreground, ultra-realistic\"\n",
    "\n",
    "# Генерація зображення\n",
    "generated_image = generate_image(prompt, guidance_scale=10.0, num_inference_steps=100)\n",
    "\n",
    "# Відображення згенерованого зображення\n",
    "if generated_image:\n",
    "    plt.figure(figsize=(10, 10))\n",
    "    plt.imshow(generated_image)\n",
    "    plt.axis('off')\n",
    "    plt.show()\n",
    "else:\n",
    "    print(\"Не вдалося згенерувати зображення.\")"
  ]
  },
  {
   "cell_type": "markdown",
   "metadata": {},
   "source": [
    "## Налаштування Параметрів Генерації\n",
    "\n",
    "Ви можете експериментувати з різними параметрами генерації, щоб отримати бажані результати. Нижче наведено два приклади з різними параметрами `guidance_scale` та `num_inference_steps`."
  ]
  },
  {
   "cell_type": "code",
   "execution_count": null,
   "metadata": {},
   "outputs": [],
   "source": [
    "# Визначення нового промпту\n",
    "prompt = \"A futuristic city skyline at night with neon lights and flying cars\"\n",
    "\n",
    "# Висока точність відповідності тексту\n",
    "generated_image_high_guidance = generate_image(prompt, guidance_scale=10.0, num_inference_steps=100)\n",
    "\n",
    "# Низька точність відповідності тексту, більш творчий результат\n",
    "generated_image_low_guidance = generate_image(prompt, guidance_scale=5.0, num_inference_steps=50)\n",
    "\n",
    "# Відображення зображень\n",
    "plt.figure(figsize=(20, 10))\n",
    "\n",
    "plt.subplot(1, 2, 1)\n",
    "plt.imshow(generated_image_high_guidance)\n",
    "plt.title(\"Висока точність відповідності\")\n",
    "plt.axis('off')\n",
    "\n",
    "plt.subplot(1, 2, 2)\n",
    "plt.imshow(generated_image_low_guidance)\n",
    "plt.title(\"Низька точність відповідності\")\n",
    "plt.axis('off')\n",
    "\n",
    "plt.show()"
  ]
  },
  {
   "cell_type": "markdown",
   "metadata": {},
   "source": [
    "## Збереження Згенерованих Зображень\n",
    "\n",
    "Ви можете зберегти згенеровані зображення на свій локальний комп'ютер або в Google Drive."
  ]
  },
  {
   "cell_type": "code",
   "execution_count": null,
   "metadata": {},
   "outputs": [],
   "source": [
    "# Збереження зображення на локальний диск\n",
    "generated_image.save(\"generated_image.png\")\n",
    "\n",
    "# Якщо використовуєте Google Drive\n",
    "from google.colab import drive\n",
    "drive.mount('/content/drive')\n",
    "\n",
    "# Збереження у Google Drive\n",
    "generated_image.save(\"/content/drive/MyDrive/generated_image.png\")\n",
    "\n",
    "# Аналогічно для інших згенерованих зображень\n",
    "generated_image_high_guidance.save(\"/content/drive/MyDrive/generated_image_high_guidance.png\")\n",
    "generated_image_low_guidance.save(\"/content/drive/MyDrive/generated_image_low_guidance.png\")"
  ]
  },
  {
   "cell_type": "markdown",
   "metadata": {},
   "source": [
    "## Додаткові Рекомендації\n",
    "\n",
    "1. **Активуйте GPU у Google Colab:**\n",
    "   - Перейдіть до `Runtime` -> `Change runtime type`.\n",
    "   - Виберіть `GPU` як апаратний прискорювач.\n",
    "   - Натисніть `Save`.\n",
    "\n",
    "2. **Перевірте Обмеження Моделі:**\n",
    "   - Деякі моделі можуть мати обмеження на використання або вимагати спеціальних налаштувань. Перевірте [сторінку моделі на Hugging Face](https://huggingface.co/Laxhar/noobai-XL-1.1) для отримання додаткової інформації.\n",
    "\n",
    "3. **Оптимізація Часу Генерації:**\n",
    "   - Використання меншої кількості кроків (`num_inference_steps`) або зниження `guidance_scale` може зменшити час генерації, але може вплинути на якість.\n",
    "\n",
    "4. **Збереження Зображень:**\n",
    "   - Ви можете зберегти згенеровані зображення на свій локальний комп'ютер або в Google Drive для подальшого використання."
  ]
  }
 ],
 "metadata": {
  "kernelspec": {
   "display_name": "Python 3",
   "language": "python",
   "name": "python3"
  },
  "language_info": {
   "name": "python",
   "version": "3.7.12",
   "mimetype": "text/x-python",
   "codemirror_mode": {
    "name": "ipython",
    "version": 3
   },
   "pygments_lexer": "ipython3",
   "nbconvert_exporter": "python",
   "file_extension": ".py"
  }
 },
 "nbformat": 4,
 "nbformat_minor": 5
}
