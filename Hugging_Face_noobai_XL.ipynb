{
 "cells": [
  {
   "cell_type": "markdown",
   "metadata": {},
   "source": [
    "# Використання моделі noobai-XL-1.1 для Генерації Зображень у Google Colab\n",
    "\n",
    "У цьому ноутбуці ми налаштуємо середовище для використання моделі `noobai-XL-1.1` з Hugging Face для завдання генерації зображень на основі текстових описів. Ми завантажимо модель, налаштуємо параметри генерації та продемонструємо приклади використання."
  ]
  },
  {
   "cell_type": "code",
   "execution_count": null,
   "metadata": {},
   "outputs": [],
   "source": [
    "# Встановлення необхідних бібліотек\n",
    "!pip install diffusers transformers torch torchvision matplotlib safetensors"
  ]
  },
  {
   "cell_type": "markdown",
   "metadata": {},
   "source": [
    "## Імпорт Необхідних Модулів\n",
    "\n",
    "Імпортуємо бібліотеки, необхідні для роботи з моделлю та обробки зображень."
  ]
  },
  {
   "cell_type": "code",
   "execution_count": null,
   "metadata": {},
   "outputs": [],
   "source": [
    "from diffusers import StableDiffusionPipeline\n",
    "import torch\n",
    "from PIL import Image\n",
    "import matplotlib.pyplot as plt"
  ]
  },
  {
   "cell_type": "markdown",
   "metadata": {},
   "source": [
    "## Завантаження Моделі для Генерації Зображень\n",
    "\n",
    "Завантажимо модель `Laxhar/noobai-XL-1.1` за допомогою `StableDiffusionPipeline` з бібліотеки `diffusers`. Переконайтесь, що у вас є доступ до цієї моделі на Hugging Face."
  ]
  },
  {
   "cell_type": "code",
   "execution_count": null,
   "metadata": {},
   "outputs": [],
   "source": [
    "# Завантаження моделі для генерації зображень\n",
    "model_id = \"Laxhar/noobai-XL-1.1\"\n",
    "\n",
    "# Завантаження пайплайна\n",
    "pipe = StableDiffusionPipeline.from_pretrained(model_id, torch_dtype=torch.float16)\n",
    "\n",
    "# Переміщення моделі на GPU для прискорення генерації\n",
    "pipe = pipe.to(\"cuda\")"
  ]
  },
  {
   "cell_type": "markdown",
   "metadata": {},
   "source": [
    "## Функція для Генерації Зображень\n",
    "\n",
    "Створимо функцію, яка приймає текстовий опис і генерує відповідне зображення за допомогою моделі."
  ]
  },
  {
   "cell_type": "code",
   "execution_count": null,
   "metadata": {},
   "outputs": [],
   "source": [
    "def generate_image(prompt, guidance_scale=7.5, num_inference_steps=50):\n",
    "    \"\"\"\n",
    "    Генерує зображення на основі текстового опису.\n",
    "\n",
    "    Parameters:\n",
    "    - prompt (str): Текстовий опис зображення.\n",
    "    - guidance_scale (float): Контролює вплив текстового опису на зображення. Вищі значення роблять зображення більш відповідним до опису.\n",
    "    - num_inference_steps (int): Кількість кроків генерації. Більше кроків можуть покращити якість, але збільшують час генерації.\n",
    "\n",
    "    Returns:\n",
    "    - image (PIL.Image.Image): Згенероване зображення.\n",
    "    \"\"\"\n",
    "    # Генерація зображення\n",
    "    image = pipe(prompt, guidance_scale=guidance_scale, num_inference_steps=num_inference_steps).images[0]\n",
    "    return image"
  ]
  },
  {
   "cell_type": "markdown",
   "metadata": {},
   "source": [
    "## Приклад Використання Моделі для Генерації Зображення\n",
    "\n",
    "Нижче наведено приклад того, як можна використовувати модель для генерації зображення на основі заданого промпту. Ви можете налаштовувати різні параметри генерації за вашими потребами."
  ]
  },
  {
   "cell_type": "code",
   "execution_count": null,
   "metadata": {},
   "outputs": [],
   "source": [
    "# Введення користувача\n",
    "prompt = \"A serene sunset over the mountains with a lake in the foreground, ultra-realistic\"\n",
    "\n",
    "# Генерація зображення\n",
    "generated_image = generate_image(prompt)\n",
    "\n",
    "# Відображення згенерованого зображення\n",
    "plt.figure(figsize=(10, 10))\n",
    "plt.imshow(generated_image)\n",
    "plt.axis('off')\n",
    "plt.show()"
  ]
  },
  {
   "cell_type": "markdown",
   "metadata": {},
   "source": [
    "## Налаштування Параметрів Генерації\n",
    "\n",
    "Ви можете експериментувати з різними параметрами генерації, щоб отримати бажані результати."
  ]
  },
  {
   "cell_type": "code",
   "execution_count": null,
   "metadata": {},
   "outputs": [],
   "source": [
    "# Приклад налаштування параметрів генерації\n",
    "prompt = \"A futuristic city skyline at night with neon lights and flying cars\"\n",
    "\n",
    "# Висока точність відповідності тексту\n",
    "generated_image_high_guidance = generate_image(prompt, guidance_scale=10.0, num_inference_steps=100)\n",
    "\n",
    "# Низька точність відповідності тексту, більш творчий результат\n",
    "generated_image_low_guidance = generate_image(prompt, guidance_scale=5.0, num_inference_steps=50)\n",
    "\n",
    "# Відображення зображень\n",
    "plt.figure(figsize=(20, 10))\n",
    "\n",
    "plt.subplot(1, 2, 1)\n",
    "plt.imshow(generated_image_high_guidance)\n",
    "plt.title(\"Висока точність відповідності\")\n",
    "plt.axis('off')\n",
    "\n",
    "plt.subplot(1, 2, 2)\n",
    "plt.imshow(generated_image_low_guidance)\n",
    "plt.title(\"Низька точність відповідності\")\n",
    "plt.axis('off')\n",
    "\n",
    "plt.show()"
  ]
  },
  {
   "cell_type": "markdown",
   "metadata": {},
   "source": [
    "## Збереження Згенерованих Зображень\n",
    "\n",
    "Ви можете зберегти згенеровані зображення на свій локальний комп'ютер або в Google Drive."
  ]
  },
  {
   "cell_type": "code",
   "execution_count": null,
   "metadata": {},
   "outputs": [],
   "source": [
    "# Збереження зображення на локальний диск\n",
    "generated_image.save(\"generated_image.png\")\n",
    "\n",
    "# Якщо використовуєте Google Drive\n",
    "from google.colab import drive\n",
    "drive.mount('/content/drive')\n",
    "\n",
    "# Збереження у Google Drive\n",
    "generated_image.save(\"/content/drive/MyDrive/generated_image.png\")"
  ]
  },
  {
   "cell_type": "markdown",
   "metadata": {},
   "source": [
    "## Додаткові Рекомендації\n",
    "\n",
    "1. **Активуйте GPU у Google Colab:**\n",
    "   - Перейдіть до `Runtime` -> `Change runtime type`.\n",
    "   - Виберіть `GPU` як апаратний прискорювач.\n",
    "   - Натисніть `Save`.\n",
    "\n",
    "2. **Перевірте Обмеження Моделі:**\n",
    "   - Деякі моделі можуть мати обмеження на використання або вимагати спеціальних налаштувань. Перевірте [сторінку моделі на Hugging Face](https://huggingface.co/Laxhar/noobai-XL-1.1) для отримання додаткової інформації.\n",
    "\n",
    "3. **Оптимізація Часу Генерації:**\n",
    "   - Використання меншої кількості кроків (`num_inference_steps`) або зниження `guidance_scale` може зменшити час генерації, але може вплинути на якість.\n",
    "\n",
    "4. **Збереження Зображень:**\n",
    "   - Ви можете зберегти згенеровані зображення на свій локальний комп'ютер або в Google Drive для подальшого використання."
  ]
  }
 ],
 "metadata": {
  "kernelspec": {
   "display_name": "Python 3",
   "language": "python",
   "name": "python3"
  },
  "language_info": {
   "name": "python",
   "version": "3.7.12",
   "mimetype": "text/x-python",
   "codemirror_mode": {
    "name": "ipython",
    "version": 3
   },
   "pygments_lexer": "ipython3",
   "nbconvert_exporter": "python",
   "file_extension": ".py"
  }
 },
 "nbformat": 4,
 "nbformat_minor": 5
}
