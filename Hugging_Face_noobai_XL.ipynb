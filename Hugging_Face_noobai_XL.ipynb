{
 "cells": [
  {
   "cell_type": "markdown",
   "metadata": {},
   "source": [
    "# Виправлення Помилки: CLIPTokenizer не підтримує метод `.to(device)`\n",
    "\n",
    "У цьому ноутбуці ми виправимо помилку, пов'язану з використанням методу `.to(device)` на `CLIPTokenizer`. Токенізатори не потребують перенесення на пристрій, тому цей виклик призводить до помилки."
  ]
  },
  {
   "cell_type": "markdown",
   "metadata": {},
   "source": [
    "## Встановлення Необхідних Бібліотек"
  ]
  },
  {
   "cell_type": "code",
   "execution_count": null,
   "metadata": {},
   "outputs": [],
   "source": [
    "# Встановлення необхідних бібліотек\n",
    "!pip install --upgrade diffusers transformers torch torchvision matplotlib safetensors"
  ]
  },
  {
   "cell_type": "markdown",
   "metadata": {},
   "source": [
    "## Імпорт Необхідних Модулів"
  ]
  },
  {
   "cell_type": "code",
   "execution_count": null,
   "metadata": {},
   "outputs": [],
   "source": [
    "# Імпорт необхідних модулів\n",
    "from diffusers import StableDiffusionXLPipeline\n",
    "from transformers import CLIPTextModel, CLIPTokenizer\n",
    "import torch\n",
    "from PIL import Image\n",
    "import matplotlib.pyplot as plt"
  ]
  },
  {
   "cell_type": "markdown",
   "metadata": {},
   "source": [
    "## Перевірка Наявності GPU"
  ]
  },
  {
   "cell_type": "code",
   "execution_count": null,
   "metadata": {},
   "outputs": [],
   "source": [
    "# Перевірка наявності GPU\n",
    "device = torch.device(\"cuda\" if torch.cuda.is_available() else \"cpu\")\n",
    "print(f\"Використовується пристрій: {device}\")"
  ]
  },
  {
   "cell_type": "markdown",
   "metadata": {},
   "source": [
    "## Завантаження Моделі для Генерації Зображень"
  ]
  },
  {
   "cell_type": "code",
   "execution_count": null,
   "metadata": {},
   "outputs": [],
   "source": [
    "# Визначення ідентифікатора моделі\n",
    "model_id = \"Laxhar/noobai-XL-1.1\"\n",
    "\n",
    "# Ініціалізація пайплайна та перенесення на пристрій\n",
    "try:\n",
    "    pipe = StableDiffusionXLPipeline.from_pretrained(\n",
    "        model_id,\n",
    "        torch_dtype=torch.float16,\n",
    "        device_map=\"auto\"  # Автоматичне розподілення на доступні пристрої\n",
    "    )\n",
    "    pipe = pipe.to(device)\n",
    "    print(\"Пайплайн успішно завантажено та перенесено на пристрій.\")\n",
    "except Exception as e:\n",
    "    print(f\"Не вдалося завантажити пайплайн: {e}\")"
  ]
  },
  {
   "cell_type": "markdown",
   "metadata": {},
   "source": [
    "## Ініціалізація Токенізатора та Текстових Енкодерів"
  ]
  },
  {
   "cell_type": "code",
   "execution_count": null,
   "metadata": {},
   "outputs": [],
   "source": [
    "# Ініціалізація токенізатора та текстових енкодерів\n",
    "try:\n",
    "    tokenizer = CLIPTokenizer.from_pretrained(\"openai/clip-vit-base-patch32\")\n",
    "    text_encoder = CLIPTextModel.from_pretrained(\"openai/clip-vit-base-patch32\").to(device)\n",
    "    text_encoder_2 = CLIPTextModel.from_pretrained(\"openai/clip-vit-base-patch32\").to(device)\n",
    "    print(\"Токенізатор та текстові енкодери успішно завантажено.\")\n",
    "except Exception as e:\n",
    "    print(f\"Не вдалося завантажити токенізатор або текстові енкодери: {e}\")"
  ]
  },
  {
   "cell_type": "markdown",
   "metadata": {},
   "source": [
    "## Функція для Генерації Зображень"
  ]
  },
  {
   "cell_type": "code",
   "execution_count": null,
   "metadata": {},
   "outputs": [],
   "source": [
    "def generate_image(prompt, guidance_scale=7.5, num_inference_steps=50):\n",
    "    \"\"\"\n",
    "    Генерує зображення на основі текстового опису.\n",
    "    \n",
    "    Parameters:\n",
    "    - prompt (str): Текстовий опис зображення.\n",
    "    - guidance_scale (float): Контролює вплив текстового опису на зображення. Вищі значення роблять зображення більш відповідним до опису.\n",
    "    - num_inference_steps (int): Кількість кроків генерації. Більше кроків можуть покращити якість, але збільшують час генерації.\n",
    "    \n",
    "    Returns:\n",
    "    - image (PIL.Image.Image): Згенероване зображення.\n",
    "    \"\"\"\n",
    "    try:\n",
    "        # Токенізація промпту та перенесення на пристрій\n",
    "        inputs = tokenizer(prompt, return_tensors=\"pt\").to(device)\n",
    "        \n",
    "        # Генерація текстових ембеддінгів за допомогою обох енкодерів\n",
    "        text_embeds1 = text_encoder(**inputs).last_hidden_state\n",
    "        text_embeds2 = text_encoder_2(**inputs).last_hidden_state\n",
    "        \n",
    "        # Переконаємося, що ембеддінги також на пристрої\n",
    "        text_embeds1 = text_embeds1.to(device)\n",
    "        text_embeds2 = text_embeds2.to(device)\n",
    "        \n",
    "        # Генерація зображення з передачею текстових ембеддінгів\n",
    "        output = pipe(\n",
    "            prompt=prompt,\n",
    "            text_embeds=(text_embeds1, text_embeds2),\n",
    "            guidance_scale=guidance_scale,\n",
    "            num_inference_steps=num_inference_steps\n",
    "        )\n",
    "        \n",
    "        # Отримання першого згенерованого зображення\n",
    "        image = output.images[0]\n",
    "        return image\n",
    "    except TypeError as e:\n",
    "        print(f\"Виникла помилка TypeError: {e}\")\n",
    "        print(\"Переконайтесь, що всі необхідні аргументи передані правильно і сумісні з конфігурацією пайплайна.\")\n",
    "        return None\n",
    "    except Exception as e:\n",
    "        print(f\"Виникла несподівана помилка: {e}\")\n",
    "        return None"
  ]
  },
  {
   "cell_type": "markdown",
   "metadata": {},
   "source": [
    "## Приклад Використання Функції для Генерації Зображення"
  ]
  },
  {
   "cell_type": "code",
   "execution_count": null,
   "metadata": {},
   "outputs": [],
   "source": [
    "# Визначення промпту\n",
    "prompt = \"A serene sunset over the mountains with a lake in the foreground, ultra-realistic\"\n",
    "\n",
    "# Генерація зображення\n",
    "generated_image = generate_image(prompt, guidance_scale=10.0, num_inference_steps=100)\n",
    "\n",
    "# Відображення згенерованого зображення\n",
    "if generated_image:\n",
    "    plt.figure(figsize=(10, 10))\n",
    "    plt.imshow(generated_image)\n",
    "    plt.axis('off')\n",
    "    plt.show()\n",
    "else:\n",
    "    print(\"Не вдалося згенерувати зображення.\")"
  ]
  },
  {
   "cell_type": "markdown",
   "metadata": {},
   "source": [
    "## Додаткові Рекомендації"
  ]
  },
  {
   "cell_type": "markdown",
   "metadata": {},
   "source": [
    "1. **Переконайтесь, що Всі Компоненти на Одному Пристрої:**\n",
    "   - Усі моделі та тензори повинні бути перенесені на один пристрій (`cuda` або `cpu`).\n",
    "   - Використовуйте `device_map=\"auto\"` при завантаженні пайплайна для автоматичного розподілення.\n",
    "\n",
    "2. **Використовуйте Методи `.to(device)`:**\n",
    "   - Переносьте кожен компонент (модель, енкодери) на потрібний пристрій вручну, якщо це необхідно.\n",
    "\n",
    "3. **Перевірка Доступності GPU:**\n",
    "   - Переконайтесь, що у вас є доступ до GPU та він правильно налаштований.\n",
    "\n",
    "4. **Логування та Дебагінг:**\n",
    "   - Додавайте додаткові `print` заяви для перевірки, на якому пристрої знаходяться тензори та моделі.\n",
    "\n",
    "5. **Документація та Спільнота:**\n",
    "   - Перегляньте [документацію Diffusers](https://huggingface.co/docs/diffusers/index) для додаткової інформації.\n",
    "   - Звертайтесь до [спільноти Hugging Face](https://discuss.huggingface.co/) за допомогою, якщо проблема залишається."
  ]
  }
 ],
 "metadata": {
  "kernelspec": {
   "display_name": "Python 3",
   "language": "python",
   "name": "python3"
  },
  "language_info": {
   "name": "python",
   "version": "3.7.12",
   "mimetype": "text/x-python",
   "codemirror_mode": {
    "name": "ipython",
    "version": 3
   },
   "pygments_lexer": "ipython3",
   "nbconvert_exporter": "python",
   "file_extension": ".py"
  }
 },
 "nbformat": 4,
 "nbformat_minor": 5
}
