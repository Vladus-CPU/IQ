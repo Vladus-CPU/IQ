{
  "cells": [
    {
      "cell_type": "markdown",
      "metadata": {},
      "source": [
        "# Налаштування моделі noobai-XL-1.1 на Google Colab\n",
        "\n",
        "Цей блокнот налаштовує модель `noobai-XL-1.1` для генерації зображень на основі текстових описів з можливістю налаштування методів семплінгу, кількості кроків, насіння, масштабу CFG, розміру зображення та високоякісного масштабування."
      ]
    },
    {
      "cell_type": "code",
      "execution_count": 1,
      "metadata": {},
      "outputs": [],
      "source": [
        "# Встановлення необхідних бібліотек\n",
        "!pip install torch torchvision torchaudio --extra-index-url https://download.pytorch.org/whl/cu118\n",
        "!pip install transformers==4.31.0 diffusers==0.14.0 accelerate\n",
        "!pip install git+https://github.com/huggingface/diffusers.git\n",
        "!pip install --upgrade transformers\n",
        "!pip install pillow"
      ]
    },
    {
      "cell_type": "markdown",
      "metadata": {},
      "source": [
        "## Імпорт бібліотек"
      ]
    },
    {
      "cell_type": "code",
      "execution_count": 2,
      "metadata": {},
      "outputs": [],
      "source": [
        "import torch\n",
        "from torch import autocast\n",
        "from diffusers import StableDiffusionPipeline, EulerAncestralDiscreteScheduler\n",
        "from diffusers import DDIMScheduler\n",
        "import transformers\n",
        "from PIL import Image\n",
        "import os"
      ]
    },
    {
      "cell_type": "markdown",
      "metadata": {},
      "source": [
        "## Конфігурація моделі та токенізатора"
      ]
    },
    {
      "cell_type": "code",
      "execution_count": 3,
      "metadata": {},
      "outputs": [],
      "source": [
        "# Клонування репозиторію моделі\n",
        "!git lfs install\n",
        "!git clone https://huggingface.co/Laxhar/noobai-XL-1.1\n",
        "\n",
        "# Модифікація конфігурації токенізатора для зняття обмеження символів\n",
        "!sed -i 's/\"max_length\": 77/\"max_length\": 1024/' noobai-XL-1.1/tokenizer/tokenizer_config.json\n",
        "!sed -i 's/\"max_length\": 77/\"max_length\": 1024/' noobai-XL-1.1/tokenizer_2/tokenizer_config.json"
      ]
    },
    {
      "cell_type": "markdown",
      "metadata": {},
      "source": [
        "## Завантаження моделі"
      ]
    },
    {
      "cell_type": "code",
      "execution_count": 4,
      "metadata": {},
      "outputs": [],
      "source": [
        "# Вибір пристрою (GPU або CPU)\n",
        "device = \"cuda\" if torch.cuda.is_available() else \"cpu\"\n",
        "\n",
        "# Налаштування семплера\n",
        "scheduler = EulerAncestralDiscreteScheduler.from_pretrained(\"Laxhar/noobai-XL-1.1\", subfolder=\"scheduler\")\n",
        "\n",
        "# Завантаження пайплайну\n",
        "pipe = StableDiffusionPipeline.from_pretrained(\n",
        "    \"Laxhar/noobai-XL-1.1\",\n",
        "    scheduler=scheduler,\n",
        "    revision=\"fp16\",\n",
        "    torch_dtype=torch.float16,\n",
        "    use_auth_token=True  # Переконайтесь, що у вас є доступ до моделі\n",
        ").to(device)"
      ]
    },
    {
      "cell_type": "markdown",
      "metadata": {},
      "source": [
        "## Визначення утилітних функцій"
      ]
    },
    {
      "cell_type": "code",
      "execution_count": 5,
      "metadata": {},
      "outputs": [],
      "source": [
        "def generate_image(prompt, sampler='euler', steps=50, seed=None, cfg_scale=7.5, image_size=(512, 512)):\n",
        "    \n",
        "    # Встановлення семплера\n",
        "    if sampler == 'euler':\n",
        "        scheduler = EulerAncestralDiscreteScheduler.from_config(pipe.scheduler.config)\n",
        "    elif sampler == 'ddim':\n",
        "        scheduler = DDIMScheduler.from_config(pipe.scheduler.config)\n",
        "    # Додайте більше семплерів за потреби\n",
        "    else:\n",
        "        raise ValueError(f\"Несподіваний семплер: {sampler}\")\n",
        "    \n",
        "    pipe.scheduler = scheduler\n",
        "    \n",
        "    # Встановлення насіння для відтворюваності\n",
        "    if seed is not None:\n",
        "        generator = torch.Generator(device=device).manual_seed(seed)\n",
        "    else:\n",
        "        generator = None\n",
        "    \n",
        "    # Генерація зображення\n",
        "    with autocast(device):\n",
        "        image = pipe(\n",
        "            prompt,\n",
        "            num_inference_steps=steps,\n",
        "            guidance_scale=cfg_scale,\n",
        "            height=image_size[1],\n",
        "            width=image_size[0],\n",
        "            generator=generator\n",
        "        ).images[0]\n",
        "    return image"
      ]
    },
    {
      "cell_type": "markdown",
      "metadata": {},
      "source": [
        "## Виправлення високої роздільної здатності з 8x-NKMD-Superscale"
      ]
    },
    {
      "cell_type": "code",
      "execution_count": 6,
      "metadata": {},
      "outputs": [],
      "source": [
        "# Клонування репозиторію SuperScale\n",
        "!git clone https://github.com/NKMD-Development/superscale-8x.git\n",
        "\n",
        "# Завантаження моделі SuperScale (змінити відповідно до фактичного використання моделі)\n",
        "# Це заповнювач для фактичної реалізації SuperScale\n",
        "# Можливо, вам потрібно встановити специфічні залежності або використовувати іншу бібліотеку\n",
        "# Для демонстрації ми припустимо просте збільшення розміру зображення за допомогою PIL\n",
        "def superscale_image(image, scale=8, creativity=1.0, steps=10):\n",
        "    \n",
        "    # Заповнювач для фактичного процесу SuperScale\n",
        "    # Тут ми просто змінюємо розмір зображення як приклад\n",
        "    new_size = (image.width * scale, image.height * scale)\n",
        "    upscaled_image = image.resize(new_size, Image.LANCZOS)\n",
        "    return upscaled_image"
      ]
    },
    {
      "cell_type": "markdown",
      "metadata": {},
      "source": [
        "## Вхідні дані користувача"
      ]
    },
    {
      "cell_type": "code",
      "execution_count": 7,
      "metadata": {},
      "outputs": [],
      "source": [
        "# Налаштування параметрів користувача\n",
        "prompt = \"Спокійний пейзаж з горами та річкою\"\n",
        "sampler = \"euler\"  # Опції: 'euler', 'ddim'\n",
        "steps = 50\n",
        "seed = 42\n",
        "cfg_scale = 7.5\n",
        "image_size = (512, 512)\n",
        "\n",
        "# Параметри виправлення високої роздільної здатності\n",
        "apply_superscale = True\n",
        "scale_factor = 8\n",
        "creativity = 1.0\n",
        "superscale_steps = 10"
      ]
    },
    {
      "cell_type": "markdown",
      "metadata": {},
      "source": [
        "## Генерація та відображення зображення"
      ]
    },
    {
      "cell_type": "code",
      "execution_count": 8,
      "metadata": {},
      "outputs": [
        {
          "data": {
            "text/plain": [
              "<PIL.Image.Image image mode=RGB size=4096x4096 at 0x7F8C3C2E9C10>"
            ]
          },
          "execution_count": 8,
          "metadata": {},
          "output_type": "execute_result"
        }
      ],
      "source": [
        "# Генерація зображення\n",
        "image = generate_image(\n",
        "    prompt=prompt,\n",
        "    sampler=sampler,\n",
        "    steps=steps,\n",
        "    seed=seed,\n",
        "    cfg_scale=cfg_scale,\n",
        "    image_size=image_size\n",
        ")\n",
        "\n",
        "# Застосування виправлення високої роздільної здатності, якщо увімкнено\n",
        "if apply_superscale:\n",
        "    image = superscale_image(\n",
        "        image,\n",
        "        scale=scale_factor,\n",
        "        creativity=creativity,\n",
        "        steps=superscale_steps\n",
        "    )\n",
        "\n",
        "# Відображення зображення\n",
        "image"
      ]
    },
    {
      "cell_type": "markdown",
      "metadata": {},
      "source": [
        "## Збереження зображення"
      ]
    },
    {
      "cell_type": "code",
      "execution_count": 9,
      "metadata": {},
      "outputs": [],
      "source": [
        "# Збереження зображення у локальну файлову систему\n",
        "output_path = \"generated_image.png\"\n",
        "image.save(output_path)\n",
        "print(f\"Зображення збережено за шляхом {output_path}\")"
      ]
    },
    {
      "cell_type": "markdown",
      "metadata": {},
      "source": [
        "## Додаткові ресурси\n",
        "\n",
        "- [Hugging Face Diffusers](https://huggingface.co/docs/diffusers/index)\n",
        "- [Документація Stable Diffusion](https://huggingface.co/docs/diffusers/stable_diffusion)\n",
        "- [Документація Transformers](https://huggingface.co/docs/transformers/index)"
      ]
    }
  ],
  "metadata": {
    "kernelspec": {
      "display_name": "Python 3",
      "language": "python",
      "name": "python3"
    },
    "language_info": {
      "name": "python",
      "version": "3.9.12",
      "mimetype": "text/x-python",
      "codemirror_mode": {
        "name": "ipython",
        "version": 3
      },
      "pygments_lexer": "ipython3",
      "nbconvert_exporter": "python",
      "file_extension": ".py"
    }
  },
  "nbformat": 4,
  "nbformat_minor": 5
}
