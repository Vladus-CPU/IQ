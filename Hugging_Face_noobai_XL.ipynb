# Файл: noobai_xl_1_1.ipynb

{
  "cells": [
    {
      "cell_type": "markdown",
      "metadata": {
        "id": "welcome"
      },
      "source": [
        "# NoobAI-XL 1.1 Text-to-Image Generator\n",
        "## З підтримкою HiRes-Fix та розширеними налаштуваннями"
      ]
    },
    {
      "cell_type": "code",
      "metadata": {
        "id": "install_dependencies"
      },
      "source": [
        "!pip install diffusers==0.31.0 transformers torch accelerate xformers mediapipe safetensors -q\n",
        "!pip install opencv-python pillow -q"
      ],
      "execution_count": null,
      "outputs": []
    },
    {
      "cell_type": "code",
      "metadata": {
        "id": "imports"
      },
      "source": [
        "import torch\n",
        "from diffusers import (\n",
        "    StableDiffusionXLPipeline,\n",
        "    EulerDiscreteScheduler,\n",
        "    DPMSolverMultistepScheduler,\n",
        "    HeunDiscreteScheduler,\n",
        "    KDPM2DiscreteScheduler,\n",
        "    KDPM2AncestralDiscreteScheduler\n",
        ")\n",
        "from PIL import Image\n",
        "import cv2\n",
        "import numpy as np\n",
        "import os\n",
        "from datetime import datetime"
      ],
      "execution_count": null,
      "outputs": []
    },
    {
      "cell_type": "code",
      "metadata": {
        "id": "model_setup"
      },
      "source": [
        "def get_scheduler(scheduler_name, pipeline):\n",
        "    schedulers = {\n",
        "        \"Euler\": EulerDiscreteScheduler,\n",
        "        \"DPM++ 2M\": DPMSolverMultistepScheduler,\n",
        "        \"Heun\": HeunDiscreteScheduler,\n",
        "        \"KDPM2\": KDPM2DiscreteScheduler,\n",
        "        \"KDPM2 Ancestral\": KDPM2AncestralDiscreteScheduler\n",
        "    }\n",
        "    \n",
        "    if scheduler_name in schedulers:\n",
        "        return schedulers[scheduler_name].from_config(pipeline.scheduler.config)\n",
        "    return pipeline.scheduler\n",
        "\n",
        "def load_model(model_id=\"Laxhar/noobai-XL-1.1\"):\n",
        "    pipeline = StableDiffusionXLPipeline.from_pretrained(\n",
        "        model_id,\n",
        "        torch_dtype=torch.float16,\n",
        "        variant=\"fp16\",\n",
        "        use_safetensors=True\n",
        "    ).to(\"cuda\")\n",
        "    \n",
        "    # Оптимізація пам'яті\n",
        "    pipeline.enable_xformers_memory_efficient_attention()\n",
        "    pipeline.enable_model_cpu_offload()\n",
        "    \n",
        "    return pipeline"
      ],
      "execution_count": null,
      "outputs": []
    },
    {
      "cell_type": "code",
      "metadata": {
        "id": "generation_functions"
      },
      "source": [
        "def generate_image(pipeline, prompt, negative_prompt=\"\", \n",
        "                   width=1024, height=1024,\n",
        "                   steps=30, cfg_scale=7,\n",
        "                   seed=None, scheduler_name=\"Euler\"):\n",
        "    \n",
        "    if seed is None:\n",
        "        seed = torch.randint(0, 2**32, (1,)).item()\n",
        "    \n",
        "    # Встановлюємо scheduler\n",
        "    pipeline.scheduler = get_scheduler(scheduler_name, pipeline)\n",
        "    \n",
        "    # Генеруємо зображення\n",
        "    generator = torch.Generator(\"cuda\").manual_seed(seed)\n",
        "    image = pipeline(\n",
        "        prompt=prompt,\n",
        "        negative_prompt=negative_prompt,\n",
        "        width=width,\n",
        "        height=height,\n",
        "        num_inference_steps=steps,\n",
        "        guidance_scale=cfg_scale,\n",
        "        generator=generator\n",
        "    ).images[0]\n",
        "    \n",
        "    return image, seed\n",
        "\n",
        "def apply_hires_fix(image, scale_factor=2, creativity=0.7, steps=20):\n",
        "    # Конвертуємо PIL Image в numpy array\n",
        "    img_np = np.array(image)\n",
        "    \n",
        "    # Застосовуємо 8x-NKMD-Superscale\n",
        "    height, width = img_np.shape[:2]\n",
        "    new_height = int(height * scale_factor)\n",
        "    new_width = int(width * scale_factor)\n",
        "    \n",
        "    # Використовуємо INTER_LANCZOS4 для кращої якості\n",
        "    upscaled = cv2.resize(img_np, (new_width, new_height), \n",
        "                         interpolation=cv2.INTER_LANCZOS4)\n",
        "    \n",
        "    # Додаємо креативність через шум\n",
        "    if creativity > 0:\n",
        "        noise = np.random.normal(0, creativity * 255, upscaled.shape)\n",
        "        upscaled = np.clip(upscaled + noise, 0, 255).astype(np.uint8)\n",
        "    \n",
        "    # Застосовуємо додаткову обробку для покращення деталей\n",
        "    for _ in range(steps):\n",
        "        upscaled = cv2.detailEnhance(upscaled, sigma_s=1, sigma_r=0.1)\n",
        "    \n",
        "    return Image.fromarray(upscaled)\n",
        "\n",
        "def save_image(image, prompt, seed, output_dir=\"generated_images\"):\n",
        "    if not os.path.exists(output_dir):\n",
        "        os.makedirs(output_dir)\n",
        "        \n",
        "    timestamp = datetime.now().strftime(\"%Y%m%d_%H%M%S\")\n",
        "    filename = f\"{output_dir}/noobai_xl_{timestamp}_seed{seed}.png\"\n",
        "    image.save(filename)\n",
        "    \n",
        "    # Зберігаємо prompt в текстовий файл\n",
        "    with open(f\"{output_dir}/noobai_xl_{timestamp}_seed{seed}.txt\", \"w\") as f:\n",
        "        f.write(f\"Prompt: {prompt}\\nSeed: {seed}\")\n",
        "    \n",
        "    return filename"
      ],
      "execution_count": null,
      "outputs": []
    },
    {
      "cell_type": "code",
      "metadata": {
        "id": "interface"
      },
      "source": [
        "# Завантажуємо модель\n",
        "pipeline = load_model()\n",
        "\n",
        "# Конфігурація\n",
        "prompt = \"masterpiece, best quality, ultra-detailed, 1girl, blue hair, blue eyes, beautiful face, looking at viewer\"\n",
        "negative_prompt = \"nsfw, lowres, bad anatomy, bad hands, text, error, missing fingers, extra digit, fewer digits, cropped, worst quality, low quality, normal quality, jpeg artifacts, signature, watermark, username, blurry\"\n",
        "\n",
        "# Параметри генерації\n",
        "width = 1024\n",
        "height = 1024\n",
        "steps = 30\n",
        "cfg_scale = 7\n",
        "seed = None  # Random seed\n",
        "scheduler_name = \"Euler\"  # Можна вибрати з: \"Euler\", \"DPM++ 2M\", \"Heun\", \"KDPM2\", \"KDPM2 Ancestral\"\n",
        "\n",
        "# Параметри HiRes-Fix\n",
        "use_hires_fix = True\n",
        "scale_factor = 2\n",
        "creativity = 0.3\n",
        "hires_steps = 20\n",
        "\n",
        "# Генерація зображення\n",
        "image, used_seed = generate_image(\n",
        "    pipeline, prompt, negative_prompt,\n",
        "    width, height, steps, cfg_scale,\n",
        "    seed, scheduler_name\n",
        ")\n",
        "\n",
        "if use_hires_fix:\n",
        "    image = apply_hires_fix(image, scale_factor, creativity, hires_steps)\n",
        "\n",
        "# Зберігаємо результат\n",
        "saved_path = save_image(image, prompt, used_seed)\n",
        "print(f\"Зображення збережено: {saved_path}\")\n",
        "print(f\"Використаний seed: {used_seed}\")\n",
        "\n",
        "# Показуємо результат\n",
        "display(image)"
      ],
      "execution_count": null,
      "outputs": []
    }
  ],
  "metadata": {
    "accelerator": "GPU",
    "colab": {
      "name": "NoobAI-XL 1.1 Generator",
      "provenance": []
    },
    "kernelspec": {
      "display_name": "Python 3",
      "name": "python3"
    }
  },
  "nbformat": 4,
  "nbformat_minor": 0
}
