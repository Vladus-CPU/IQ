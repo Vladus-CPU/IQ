{
 "cells": [
  {
   "cell_type": "markdown",
   "metadata": {},
   "source": [
    "# Генерація Зображень за Допомогою Stable Diffusion\n",
    "\n",
    "Цей Notebook демонструє, як оптимізувати токенізацію та налаштувати різні параметри генерації зображень, такі як методи семплінгу, кількість кроків семплінгу, насіння (seed), CFG scale, а також додавання високоякісного виправлення (`hires fix 8x-NKMD-Superscale`)."
  },
  {
   "cell_type": "markdown",
   "metadata": {},
   "source": [
    "## Встановлення Необхідних Бібліотек"
  },
  {
   "cell_type": "code",
   "execution_count": null,
   "metadata": {},
   "outputs": [],
   "source": [
    "!pip install --upgrade diffusers transformers torch torchvision matplotlib safetensors"
  },
  {
   "cell_type": "markdown",
   "metadata": {},
   "source": [
    "## Імпорт Необхідних Модулів"
  },
  {
   "cell_type": "code",
   "execution_count": null,
   "metadata": {},
   "outputs": [],
   "source": [
    "from diffusers import StableDiffusionPipeline, EulerAncestralDiscreteScheduler, DDIMScheduler\n",
    "from transformers import CLIPTextModel, CLIPTokenizer\n",
    "import torch\n",
    "from PIL import Image\n",
    "import matplotlib.pyplot as plt\n",
    "import random"
  },
  {
   "cell_type": "markdown",
   "metadata": {},
   "source": [
    "## Перевірка Наявності GPU"
  },
  {
   "cell_type": "code",
   "execution_count": null,
   "metadata": {},
   "outputs": [],
   "source": [
    "device = torch.device(\"cuda\" if torch.cuda.is_available() else \"cpu\")\n",
    "print(f\"Використовується пристрій: {device}\")"
  },
  {
   "cell_type": "markdown",
   "metadata": {},
   "source": [
    "## Завантаження Токенізатора та Текстового Енкодера"
  },
  {
   "cell_type": "code",
   "execution_count": null,
   "metadata": {},
   "outputs": [],
   "source": [
    "tokenizer = CLIPTokenizer.from_pretrained(\"openai/clip-vit-base-patch32\")\n",
    "text_encoder = CLIPTextModel.from_pretrained(\"openai/clip-vit-base-patch32\").to(device)"
  },
  {
   "cell_type": "markdown",
   "metadata": {},
   "source": [
    "## Функція для Завантаження Пайплайна з Вибором Методу Семплінгу"
  },
  {
   "cell_type": "code",
   "execution_count": null,
   "metadata": {},
   "outputs": [],
   "source": [
    "def load_pipeline(model_id, scheduler_type=\"Euler\"):\n",
    "    if scheduler_type == \"Euler\":\n",
    "        scheduler = EulerAncestralDiscreteScheduler.from_pretrained(model_id, subfolder=\"scheduler\")\n",
    "    elif scheduler_type == \"DDIM\":\n",
    "        scheduler = DDIMScheduler.from_pretrained(model_id, subfolder=\"scheduler\")\n",
    "    else:\n",
    "        raise ValueError(\"Невідомий тип семплінгу\")\n",
    "    \n",
    "    pipe = StableDiffusionPipeline.from_pretrained(\n",
    "        model_id,\n",
    "        scheduler=scheduler,\n",
    "        torch_dtype=torch.float16 if device.type == \"cuda\" else torch.float32\n",
    "    )\n",
    "    pipe = pipe.to(device)\n",
    "    return pipe"
  },
  {
   "cell_type": "markdown",
   "metadata": {},
   "source": [
    "## Завантаження Пайплайна з Методом Семплінгу Euler"
  },
  {
   "cell_type": "code",
   "execution_count": null,
   "metadata": {},
   "outputs": [],
   "source": [
    "model_id = \"CompVis/stable-diffusion-v1-4\"  # Замість цього використовуйте ваш ідентифікатор моделі\n",
    "scheduler_type = \"Euler\"  # Вибір методу семплінгу: \"Euler\" або \"DDIM\"\n",
    "pipe = load_pipeline(model_id, scheduler_type)\n",
    "print(\"Пайплайн успішно завантажено та перенесено на пристрій.\")"
  },
  {
   "cell_type": "markdown",
   "metadata": {},
   "source": [
    "## Функція для Генерації Зображення"
  },
  {
   "cell_type": "code",
   "execution_count": null,
   "metadata": {},
   "outputs": [],
   "source": [
    "def generate_image(\n",
    "    prompt,\n",
    "    sampler=\"Euler\",\n",
    "    sampling_steps=50,\n",
    "    seed=None,\n",
    "    cfg_scale=7.5,\n",
    "    image_size=(512, 512),\n",
    "    hires_fix=False,\n",
    "    hires_scale=2.0,\n",
    "    hires_steps=20\n",
    "):\n",
    "    \"\"\"\n",
    "    Генерує зображення на основі текстового опису з можливістю налаштування параметрів.\n",
    "    \n",
    "    Parameters:\n",
    "    - prompt (str): Текстовий опис зображення.\n",
    "    - sampler (str): Метод семплінгу (\"Euler\", \"DDIM\").\n",
    "    - sampling_steps (int): Кількість кроків семплінгу.\n",
    "    - seed (int): Насіння для відтворюваності.\n",
    "    - cfg_scale (float): Контролює вплив текстового опису на зображення.\n",
    "    - image_size (tuple): Розмір зображення (ширина, висота).\n",
    "    - hires_fix (bool): Використання високоякісного виправлення.\n",
    "    - hires_scale (float): Масштаб для високоякісного виправлення.\n",
    "    - hires_steps (int): Кількість кроків для високоякісного виправлення.\n",
    "    \n",
    "    Returns:\n",
    "    - image (PIL.Image.Image): Згенероване зображення.\n",
    "    \"\"\"\n",
    "    # Встановлення насіння для відтворюваності\n",
    "    if seed is not None:\n",
    "        torch.manual_seed(seed)\n",
    "        random.seed(seed)\n",
    "    \n",
    "    # Вибір методу семплінгу\n",
    "    if sampler == \"Euler\":\n",
    "        scheduler = EulerAncestralDiscreteScheduler.from_config(pipe.scheduler.config)\n",
    "    elif sampler == \"DDIM\":\n",
    "        scheduler = DDIMScheduler.from_config(pipe.scheduler.config)\n",
    "    else:\n",
    "        raise ValueError(\"Невідомий метод семплінгу\")\n",
    "    \n",
    "    pipe.scheduler = scheduler\n",
    "    \n",
    "    # Токенізація промпту з обмеженням довжини\n",
    "    inputs = tokenizer(\n",
    "        prompt, \n",
    "        return_tensors=\"pt\", \n",
    "        truncation=True, \n",
    "        max_length=77\n",
    "    ).to(device)\n",
    "    \n",
    "    # Генерація текстових ембеддінгів\n",
    "    with torch.no_grad():\n",
    "        text_embeddings = text_encoder(**inputs).last_hidden_state\n",
    "    \n",
    "    # Генерація зображення\n",
    "    output = pipe(\n",
    "        prompt=prompt,\n",
    "        num_inference_steps=sampling_steps,\n",
    "        guidance_scale=cfg_scale,\n",
    "        height=image_size[1],\n",
    "        width=image_size[0],\n",
    "        generator=torch.Generator(device).manual_seed(seed) if seed else None\n",
    "    )\n",
    "    \n",
    "    image = output.images[0]\n",
    "    \n",
    "    # Високоякісне виправлення зображення\n",
    "    if hires_fix:\n",
    "        # Завантаження моделі високої роздільної здатності (потрібна відповідна модель)\n",
    "        hires_model_id = \"NKMD/Superscale-8x\"\n",
    "        hires_pipe = load_pipeline(hires_model_id, scheduler_type)\n",
    "        \n",
    "        # Налаштування масштабування та кроків творчості\n",
    "        hires_pipe.scheduler.set_timesteps(hires_steps)\n",
    "        \n",
    "        # Генерація високоякісного зображення\n",
    "        hires_output = hires_pipe(\n",
    "            prompt=prompt,\n",
    "            num_inference_steps=hires_steps,\n",
    "            guidance_scale=hires_scale,\n",
    "            height=int(image_size[1] * hires_scale),\n",
    "            width=int(image_size[0] * hires_scale),\n",
    "            generator=torch.Generator(device).manual_seed(seed) if seed else None\n",
    "        )\n",
    "        \n",
    "        image = hires_output.images[0]\n",
    "    \n",
    "    return image"
  },
  {
   "cell_type": "markdown",
   "metadata": {},
   "source": [
    "## Приклад Використання Функції для Генерації Зображення"
  },
  {
   "cell_type": "code",
   "execution_count": null,
   "metadata": {},
   "outputs": [],
   "source": [
    "prompt = \"Футуристичний міський пейзаж на заході сонця з літаючими автомобілями та висотними хмарочосами, ультрареалістичний\"\n",
    "\n",
    "# Налаштування параметрів\n",
    "sampler = \"Euler\"           # Метод семплінгу: \"Euler\" або \"DDIM\"\n",
    "sampling_steps = 100        # Кількість кроків семплінгу\n",
    "seed = 42                   # Насіння для відтворюваності\n",
    "cfg_scale = 7.5             # Контроль впливу тексту\n",
    "image_size = (768, 768)     # Розмір зображення (ширина, висота)\n",
    "hires_fix = True            # Використання високоякісного виправлення\n",
    "hires_scale = 2.0           # Масштаб для високоякісного виправлення\n",
    "hires_steps = 30            # Кількість кроків для високоякісного виправлення\n",
    "\n",
    "# Генерація зображення\n",
    "generated_image = generate_image(\n",
    "    prompt=prompt,\n",
    "    sampler=sampler,\n",
    "    sampling_steps=sampling_steps,\n",
    "    seed=seed,\n",
    "    cfg_scale=cfg_scale,\n",
    "    image_size=image_size,\n",
    "    hires_fix=hires_fix,\n",
    "    hires_scale=hires_scale,\n",
    "    hires_steps=hires_steps\n",
    ")\n",
    "\n",
    "# Відображення згенерованого зображення\n",
    "plt.figure(figsize=(10, 10))\n",
    "plt.imshow(generated_image)\n",
    "plt.axis('off')\n",
    "plt.show()"
  },
  {
   "cell_type": "markdown",
   "metadata": {},
   "source": [
    "## Пояснення Коду"
  },
  {
   "cell_type": "markdown",
   "metadata": {},
   "source": [
    "### 1. Встановлення та Імпорт Бібліотек\n",
    "- Використовуємо `pip` для встановлення необхідних бібліотек.\n",
    "- Імпортуємо модулі, необхідні для роботи з моделями та обробки зображень.\n",
    "\n",
    "### 2. Перевірка Наявності GPU\n",
    "- Визначаємо, чи доступний GPU для прискорення обчислень.\n",
    "\n",
    "### 3. Завантаження Токенізатора та Текстового Енкодера\n",
    "- Використо��уємо `CLIPTokenizer` та `CLIPTextModel` для обробки текстових запитів.\n",
    "\n",
    "### 4. Функція `load_pipeline`\n",
    "- Дозволяє завантажувати пайплайн з вибором методу семплінгу (`Euler` або `DDIM`).\n",
    "- Переносить модель на доступний пристрій (GPU або CPU).\n",
    "\n",
    "### 5. Функція `generate_image`\n",
    "- Приймає різні параметри для налаштування генерації зображення.\n",
    "- Встановлює насіння для відтворюваності результатів.\n",
    "- Вибирає метод семплінгу та налаштовує пайплайн.\n",
    "- Токенізує текстовий опис з обмеженням на максимальну довжину.\n",
    "- Генерує зображення з заданими параметрами.\n",
    "- Якщо увімкнено `hires_fix`, виконує високоякісне виправлення зображення.\n",
    "\n",
    "### 6. Приклад Використання\n",
    "- Визначаємо текстовий опис (`prompt`) та налаштовуємо параметри генерації.\n",
    "- Викликаємо функцію `generate_image` з заданими параметрами.\n",
    "- Відображаємо згенероване зображення за допомогою `matplotlib`."
  },
  {
   "cell_type": "markdown",
   "metadata": {},
   "source": [
    "## Додаткові Рекомендації\n",
    "\n",
    "1. **Вибір Методу Семплінгу:**\n",
    "   - **Euler:** Забезпечує швидшу генерацію зображень з хорошою якістю. Підходить для більшості випадків використання.\n",
    "   - **DDIM:** Може забезпечити кращу якість для певних типів зображень, але зазвичай потребує більше кроків семплінгу.\n",
    "\n",
    "2. **Налаштування `cfg_scale`:**\n",
    "   - Контролює, наскільки сильно модель слідує текстовому опису. Вищі значення роблять зображення більш відповідним до опису, але можуть зменшити різноманітність.\n",
    "\n",
    "3. **Використання Високоякісного Виправлення (`hires_fix`):**\n",
    "   - Дозволяє покращити деталізацію зображення шляхом збільшення розміру та кількості кроків семплінгу.\n",
    "   - Переконайтесь, що у вас є доступ до відповідної моделі високої роздільної здатності.\n",
    "\n",
    "4. **Моніторинг Використання Ресурсів:**\n",
    "   - Використовуйте інструменти на зразок `nvidia-smi` для відстеження використання GPU під час генерації зображень.\n",
    "   - Це допоможе вам оптимізувати налаштування та уникнути перевантаження системи.\n",
    "\n",
    "5. **Оптимізація Параметрів:**\n",
    "   - Експериментуйте з різними комбінаціями параметрів (`sampling_steps`, `cfg_scale`, `hires_scale` тощо) для досягнення найкращих результатів.\n",
    "\n",
    "## Корисні Посилання\n",
    "\n",
    "- [Документація Diffusers](https://huggingface.co/docs/diffusers/index)\n",
    "- [Документація Transformers](https://huggingface.co/docs/transformers/index)\n",
    "- [Спільнота Hugging Face](https://discuss.huggingface.co/)\n",
    "- [Google Colab Documentation](https://colab.research.google.com/notebooks/intro.ipynb)\n",
    "\n",
    "Якщо у вас виникнуть додаткові питання або потреба у допомозі з адаптацією цього коду під ваші потреби, не соромтеся звертатися!"
  }
 ],
 "metadata": {
  "kernelspec": {
   "display_name": "Python 3",
   "language": "python",
   "name": "python3"
  },
  "language_info": {
   "name": "python",
   "version": "3.8.5",
   "mimetype": "text/x-python",
   "codemirror_mode": {
    "name": "ipython",
    "version": 3
   },
   "pygments_lexer": "ipython3",
   "nbconvert_exporter": "python",
   "file_extension": ".py"
  }
 },
 "nbformat": 4,
 "nbformat_minor": 5
}
